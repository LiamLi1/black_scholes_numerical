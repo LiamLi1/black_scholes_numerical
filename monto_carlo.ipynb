{
 "cells": [
  {
   "cell_type": "code",
   "execution_count": 1,
   "metadata": {
    "collapsed": true
   },
   "outputs": [],
   "source": [
    "import numpy as np\n",
    "import math"
   ]
  },
  {
   "cell_type": "code",
   "execution_count": 2,
   "metadata": {},
   "outputs": [
    {
     "data": {
      "text/html": [
       "<script>requirejs.config({paths: { 'plotly': ['https://cdn.plot.ly/plotly-latest.min']},});if(!window.Plotly) {{require(['plotly'],function(plotly) {window.Plotly=plotly;});}}</script>"
      ],
      "text/vnd.plotly.v1+html": [
       "<script>requirejs.config({paths: { 'plotly': ['https://cdn.plot.ly/plotly-latest.min']},});if(!window.Plotly) {{require(['plotly'],function(plotly) {window.Plotly=plotly;});}}</script>"
      ]
     },
     "metadata": {},
     "output_type": "display_data"
    }
   ],
   "source": [
    "import seaborn as sns\n",
    "import matplotlib.pyplot as plt\n",
    "import plotly.offline as py\n",
    "import plotly.graph_objs as go\n",
    "import math\n",
    "import pandas as pd\n",
    "from functools import partial\n",
    "%matplotlib inline\n",
    "py.init_notebook_mode(connected=True)"
   ]
  },
  {
   "cell_type": "code",
   "execution_count": 11,
   "metadata": {
    "collapsed": true,
    "scrolled": true
   },
   "outputs": [],
   "source": [
    "import numpy as np\n",
    "import scipy.stats as ss\n",
    "import time \n",
    "\n",
    "\n",
    "class BlackScholes(object):\n",
    "    def __init__(self, S, K, r, sig, div, T):\n",
    "        self.__K = K\n",
    "        self.__T = T\n",
    "        self.__S = S\n",
    "        self.__sig = sig\n",
    "        self.__r = r\n",
    "        self.__div = div\n",
    "        \n",
    "    #Black and Scholes\n",
    "    def d1(self, S=0, K=0, r=0, sig=0, div=0, T=0):\n",
    "        if S==0:\n",
    "            S = self.__S\n",
    "        if K==0:\n",
    "            K = self.__K\n",
    "        if r==0:\n",
    "            r = self.__r\n",
    "        if sig==0:\n",
    "            sig = self.__sig\n",
    "        if div==0:\n",
    "            div = self.__div\n",
    "        if T==0:\n",
    "            T = self.__T\n",
    "        return (np.log(S/K) + (r -div + sig**2 / 2) * T)/(sig * np.sqrt(T))\n",
    "    \n",
    "    def d2(self, S=0, K=0, r=0, sig=0, div=0, T=0):\n",
    "        if S==0:\n",
    "            S = self.__S\n",
    "        if K==0:\n",
    "            K = self.__K\n",
    "        if r==0:\n",
    "            r = self.__r\n",
    "        if sig==0:\n",
    "            sig = self.__sig\n",
    "        if div==0:\n",
    "            div = self.__div\n",
    "        if T==0:\n",
    "            T = self.__T\n",
    "        return (np.log(S/K) + (r -div - sig**2 / 2) * T)/(sig * np.sqrt(T))\n",
    "\n",
    "    def price(self, types = \"call\"):\n",
    "        if types==\"call\":\n",
    "            return self.__S * np.exp(-self.__div * self.__T)* ss.norm.cdf(self.d1()) - self.__K * np.exp(-self.__r * self.__T) * ss.norm.cdf(self.d2())\n",
    "        else:\n",
    "            return self.__K * np.exp(-self.__r * self.__T) * ss.norm.cdf(-self.d2()) - self.__S * np.exp(-self.__div * self.__T) * ss.norm.cdf(-self.d1())\n",
    "\n",
    "    def delta(self, S, K, r, sig, div, T, t):\n",
    "        return ss.norm.cdf(self.d1(S, K, r, sig, div, T-t))\n",
    "    \n",
    "    def gamma(self, S, K, r, sig, div, T, t):\n",
    "        return ss.norm.pdf(self.d1(S, K, r, sig, div, T))/S*sig*np.sqrt(T-t)\n",
    "\n",
    "    def rho(self, S, K, r, sig, div, T, t):\n",
    "        return K*(T-t)*np.exp(-r*(T-t))*ss.norm.cdf(self.d2(S, K, r, sig, div, T))\n",
    "    \n",
    "    def theta(self, S, K, r, sig, div, T, t):\n",
    "        return -S*ss.norm.pdf(self.d1(S, K, r, sig, div, T))*sig/(2*np.sqrt(T-t))-r*K*np.exp(-r*(T-t))*ss.norm.cdf(self.d2(S, K, r, sig, div, T))\n",
    "                              \n",
    "    def vega(self, S, K, r, sig, div, T, t):\n",
    "        return S*ss.norm.pdf(self.d1(S, K, r, sig, div, T))*np.sqrt(T-t)\n"
   ]
  },
  {
   "cell_type": "code",
   "execution_count": 12,
   "metadata": {},
   "outputs": [
    {
     "data": {
      "text/plain": [
       "0.049999999999999975"
      ]
     },
     "execution_count": 12,
     "metadata": {},
     "output_type": "execute_result"
    }
   ],
   "source": [
    "bs = BlackScholes(S=100, K=100, r=0.06, sig=0.2,div=0.03, T=1)\n",
    "bs.d2()"
   ]
  },
  {
   "cell_type": "code",
   "execution_count": 13,
   "metadata": {
    "collapsed": true
   },
   "outputs": [],
   "source": [
    "S=100 \n",
    "K=100 \n",
    "r=0.06 \n",
    "sig=0.2\n",
    "div=0.03 \n",
    "T=1"
   ]
  },
  {
   "cell_type": "code",
   "execution_count": 14,
   "metadata": {},
   "outputs": [
    {
     "data": {
      "text/plain": [
       "0.00015677165973541424"
      ]
     },
     "execution_count": 14,
     "metadata": {},
     "output_type": "execute_result"
    }
   ],
   "source": [
    "bs.gamma(S,K,r,sig,div,T,350/365)"
   ]
  },
  {
   "cell_type": "code",
   "execution_count": 26,
   "metadata": {},
   "outputs": [
    {
     "data": {
      "text/plain": [
       "[<matplotlib.lines.Line2D at 0x17735ba4438>]"
      ]
     },
     "execution_count": 26,
     "metadata": {},
     "output_type": "execute_result"
    },
    {
     "data": {
      "image/png": "[encoded data removed]",
      "text/plain": [
       "<matplotlib.figure.Figure at 0x17735b36588>"
      ]
     },
     "metadata": {},
     "output_type": "display_data"
    }
   ],
   "source": [
    "plt.plot([bs.vega(i,K,r,0.1,div,T,190/365) for i in np.arange(80,120,4)])"
   ]
  },
  {
   "cell_type": "code",
   "execution_count": null,
   "metadata": {
    "collapsed": true
   },
   "outputs": [],
   "source": [
    "class MontoCarlo(object):\n",
    "    def __init__(self, K, T, S, sig, r, div, N, M, lines=200):\n",
    "        self.__K = K\n",
    "        self.__T = T\n",
    "        self.__S = S\n",
    "        self.__sig = sig\n",
    "        self.__r = r\n",
    "        self.__div = div\n",
    "        self.__N = N\n",
    "        self.__M = M\n",
    "        self.__lines = lines\n",
    "        \n",
    "    @property\n",
    "    def K(self):\n",
    "        return self.__K\n",
    "    @K.setter\n",
    "    def K(self, value):\n",
    "        self.__K = value\n",
    "        \n",
    "    @property\n",
    "    def T(self):\n",
    "        return self.__T\n",
    "    @T.setter\n",
    "    def T(self, value):\n",
    "        self.__T = value\n",
    "        \n",
    "    @property\n",
    "    def S(self):\n",
    "        return self.__S\n",
    "    @S.setter\n",
    "    def S(self, value):\n",
    "        self.__S = value\n",
    "        \n",
    "    @property\n",
    "    def N(self):\n",
    "        return self.__N\n",
    "    @N.setter\n",
    "    def N(self, value):\n",
    "        self.__N = value\n",
    "      \n",
    "    @property\n",
    "    def M(self):\n",
    "        return self.__M\n",
    "    @M.setter\n",
    "    def M(self, value):\n",
    "        self.__M = value\n",
    "        \n",
    "    @property\n",
    "    def r(self):\n",
    "        return self.__r\n",
    "    @r.setter\n",
    "    def r(self, value):\n",
    "        self.__r = value\n",
    "      \n",
    "    @property\n",
    "    def div(self):\n",
    "        return self.__div\n",
    "    @div.setter\n",
    "    def div(self, value):\n",
    "        self.__div = value\n",
    "        \n",
    "    @property\n",
    "    def sig(self):\n",
    "        return self.__sig\n",
    "    @sig.setter\n",
    "    def sig(self, value):\n",
    "        self.__sig = value\n",
    "    \n",
    "    def __call(self, St):\n",
    "        return max(0, St - self.__K)\n",
    "    \n",
    "    def __put(self, St):\n",
    "        return max(0, self.__K - St)\n",
    "    \n",
    "    def __digital(self,St):\n",
    "        return \n",
    "    \n",
    "    def normal(self, type_of_option='call', anti=False, M=0):\n",
    "        if M==0:\n",
    "            M=self.__M\n",
    "        \n",
    "            \n",
    "        fun = {'call':self.__call, 'put':self.__put}[type_of_option]\n",
    "        dt = self.__T/self.__N\n",
    "        nudt = (self.__r - self.__div-0.5*self.__sig**2)*dt\n",
    "        sigsdt = self.__sig*np.sqrt(dt)\n",
    "        lnS = np.log(self.__S)\n",
    "        \n",
    "        \n",
    "        \n",
    "        sum_ct = 0\n",
    "        sum_ct2 = 0\n",
    "        \n",
    "        \n",
    "        for i in range(M):\n",
    "            \n",
    "            lnSt = lnS\n",
    "            if anti == True:\n",
    "                lnSt2 = lnS\n",
    "            for j in range(self.__N):\n",
    "                randn = np.random.normal(0, 1)\n",
    "                lnSt += nudt + sigsdt*randn\n",
    "                if anti == True:\n",
    "                    lnSt2 += nudt + sigsdt*(-randn)\n",
    "            \n",
    "            St = np.exp(lnSt)\n",
    "            \n",
    "            if anti == True:\n",
    "                St2 = np.exp(lnSt2)\n",
    "            \n",
    "            if anti == True:\n",
    "                Ct = 0.5*(fun(St)+fun(St2))\n",
    "            else:\n",
    "                Ct = fun(St)\n",
    "            sum_ct += Ct\n",
    "            sum_ct2 += Ct*Ct\n",
    "            \n",
    "            \n",
    "        \n",
    "        option_value = np.exp(-self.__r*self.__T)*sum_ct/M\n",
    "        SD = np.sqrt((sum_ct2 - sum_ct*sum_ct/M)*np.exp(-2*self.__r*self.__T)/(M - 1))\n",
    "        SE = SD/np.sqrt(M)\n",
    "        \n",
    "        return{type_of_option:option_value, 'SD':SD, 'SE':SE, 'M':M}\n",
    "    \n",
    "    def delta_hedge_control(self, M=0):\n",
    "        if M==0:\n",
    "            M=self.__M        \n",
    "    \n",
    "    def model_test(self, fun, M = [500, 1000, 5000, 10000, 50000, 100000]):\n",
    "        dict_list = []\n",
    "        for m in M:\n",
    "            dict_list.append(fun(M=m))\n",
    "            print(m)\n",
    "        return pd.DataFrame.from_records(dict_list)\n",
    "    \n",
    "    def convergence(self, dfs):\n",
    "        data = []\n",
    "        if type(dfs)!= list:\n",
    "            trace = go.Scatter(x=np.log(dfs['M']),\n",
    "                              y=np.log(dfs['SE']),\n",
    "                              mode='lines')\n",
    "            data.append(trace)\n",
    "        else:            \n",
    "            for df in dfs:\n",
    "                trace = go.Scatter(x=np.log(df['M']),\n",
    "                              y=np.log(df['SE']),\n",
    "                              mode='lines')\n",
    "                data.append(trace)\n",
    "        layout = go.Layout(\n",
    "            xaxis={'title': 'log(M)'},\n",
    "            yaxis={'title': 'log(Standard Error)'})\n",
    "        fig = go.Figure(data = data, layout = layout)\n",
    "        py.iplot(fig)\n"
   ]
  },
  {
   "cell_type": "code",
   "execution_count": null,
   "metadata": {
    "collapsed": true
   },
   "outputs": [],
   "source": [
    "mc = MontoCarlo(S=100, K=100, T=1, M=1000, N=365, sig=0.2, div=0.03, r=0.06)"
   ]
  },
  {
   "cell_type": "code",
   "execution_count": null,
   "metadata": {
    "collapsed": true
   },
   "outputs": [],
   "source": [
    "mcn1 = partial(mc.normal, anti=True)"
   ]
  },
  {
   "cell_type": "code",
   "execution_count": null,
   "metadata": {
    "scrolled": true
   },
   "outputs": [],
   "source": [
    "df_r2 = mc.model_test(fun=mcn1)"
   ]
  },
  {
   "cell_type": "code",
   "execution_count": 110,
   "metadata": {
    "scrolled": false
   },
   "outputs": [
    {
     "data": {
      "application/vnd.plotly.v1+json": {
       "data": [
        {
         "mode": "lines",
         "type": "scatter",
         "x": [
          6.214608098422191,
          6.907755278982137,
          8.517193191416238,
          9.210340371976184,
          10.819778284410283,
          11.512925464970229
         ],
         "y": [
          -0.5017641060542394,
          -0.7982083320653782,
          -1.6629942769147634,
          -1.9922548193438097,
          -2.7830278459387987,
          -3.1378592500623976
         ]
        },
        {
         "mode": "lines",
         "type": "scatter",
         "x": [
          6.214608098422191,
          6.907755278982137,
          8.517193191416238,
          9.210340371976184,
          10.819778284410283,
          11.512925464970229
         ],
         "y": [
          -1.1459136898914808,
          -1.4646783072456087,
          -2.2734636999533744,
          -2.631069065790902,
          -3.4427393831251583,
          -3.778888905312054
         ]
        }
       ],
       "layout": {
        "xaxis": {
         "title": "log(M)"
        },
        "yaxis": {
         "title": "log(Standard Error)"
        }
       }
      },
      "text/html": [
       "<div id=\"2c768db5-fc98-4d37-86d6-4f97b119745a\" style=\"height: 525px; width: 100%;\" class=\"plotly-graph-div\"></div><script type=\"text/javascript\">require([\"plotly\"], function(Plotly) { window.PLOTLYENV=window.PLOTLYENV || {};window.PLOTLYENV.BASE_URL=\"https://plot.ly\";Plotly.newPlot(\"2c768db5-fc98-4d37-86d6-4f97b119745a\", [{\"type\": \"scatter\", \"x\": [6.214608098422191, 6.907755278982137, 8.517193191416238, 9.210340371976184, 10.819778284410283, 11.512925464970229], \"y\": [-0.5017641060542394, -0.7982083320653782, -1.6629942769147634, -1.9922548193438097, -2.7830278459387987, -3.1378592500623976], \"mode\": \"lines\"}, {\"type\": \"scatter\", \"x\": [6.214608098422191, 6.907755278982137, 8.517193191416238, 9.210340371976184, 10.819778284410283, 11.512925464970229], \"y\": [-1.1459136898914808, -1.4646783072456087, -2.2734636999533744, -2.631069065790902, -3.4427393831251583, -3.778888905312054], \"mode\": \"lines\"}], {\"xaxis\": {\"title\": \"log(M)\"}, \"yaxis\": {\"title\": \"log(Standard Error)\"}}, {\"showLink\": true, \"linkText\": \"Export to plot.ly\"})});</script>"
      ],
      "text/vnd.plotly.v1+html": [
       "<div id=\"2c768db5-fc98-4d37-86d6-4f97b119745a\" style=\"height: 525px; width: 100%;\" class=\"plotly-graph-div\"></div><script type=\"text/javascript\">require([\"plotly\"], function(Plotly) { window.PLOTLYENV=window.PLOTLYENV || {};window.PLOTLYENV.BASE_URL=\"https://plot.ly\";Plotly.newPlot(\"2c768db5-fc98-4d37-86d6-4f97b119745a\", [{\"type\": \"scatter\", \"x\": [6.214608098422191, 6.907755278982137, 8.517193191416238, 9.210340371976184, 10.819778284410283, 11.512925464970229], \"y\": [-0.5017641060542394, -0.7982083320653782, -1.6629942769147634, -1.9922548193438097, -2.7830278459387987, -3.1378592500623976], \"mode\": \"lines\"}, {\"type\": \"scatter\", \"x\": [6.214608098422191, 6.907755278982137, 8.517193191416238, 9.210340371976184, 10.819778284410283, 11.512925464970229], \"y\": [-1.1459136898914808, -1.4646783072456087, -2.2734636999533744, -2.631069065790902, -3.4427393831251583, -3.778888905312054], \"mode\": \"lines\"}], {\"xaxis\": {\"title\": \"log(M)\"}, \"yaxis\": {\"title\": \"log(Standard Error)\"}}, {\"showLink\": true, \"linkText\": \"Export to plot.ly\"})});</script>"
      ]
     },
     "metadata": {},
     "output_type": "display_data"
    }
   ],
   "source": [
    "mc.convergence([df_r1,df_r2])"
   ]
  }
 ],
 "metadata": {
  "kernelspec": {
   "display_name": "Python 3",
   "language": "python",
   "name": "python3"
  },
  "language_info": {
   "codemirror_mode": {
    "name": "ipython",
    "version": 3
   },
   "file_extension": ".py",
   "mimetype": "text/x-python",
   "name": "python",
   "nbconvert_exporter": "python",
   "pygments_lexer": "ipython3",
   "version": "3.6.1"
  }
 },
 "nbformat": 4,
 "nbformat_minor": 2
}
